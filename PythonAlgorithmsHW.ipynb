{
 "cells": [
  {
   "cell_type": "code",
   "execution_count": 26,
   "id": "1bab5c1c",
   "metadata": {},
   "outputs": [
    {
     "name": "stdout",
     "output_type": "stream",
     "text": [
      "['.', 'sentence', 'a', 'is', 'this']\n",
      "['this', 'is', 'a', 'sentence', '.']\n",
      "['.', 'sentence', 'a', 'is', 'this']\n"
     ]
    }
   ],
   "source": [
    "# Exercise #1\n",
    "# Reverse the list below in-place using an in-place algorithm.\n",
    "# For extra credit: Reverse the strings at the same time.\n",
    "\n",
    "\n",
    "# So the input should be a list.\n",
    "# The output should be the result of reversing the entire list AND reversing\n",
    "# The direction of each letter in the string, essentially flipping the entire list around.\n",
    "# Output: ['.', 'ecnetnes', 'a', 'si', 'siht']\n",
    "\n",
    "\n",
    "# I wanted to use list index pointers to swap each string to where I wanted them in the list,\n",
    "# Then to loop through the list and reverse each string...\n",
    "\n",
    "\n",
    "\n",
    "words = ['this' , 'is', 'a', 'sentence', '.']\n",
    "\n",
    "\n",
    "def flipstrings(x):                              # This function returned a reversed copy of the original list. \n",
    "    return x[::-1]                               # Out of place...something or other\n",
    "bkwrds = flipstrings(words)\n",
    "print(bkwrds)\n",
    "print(words)\n",
    "\n",
    "\n",
    "\n",
    "def swapindexes(alist):                         # This method swapped the list's indexes from the outsides inward,\n",
    "    pos = 0                                     # Thus reversing the list yet again.\n",
    "    neg = -1                                    # I can't seem to figure out how to reverse the individual strings \n",
    "    while pos < len(alist)//2:                  # Let alone do it all in one go. But here is my effort.\n",
    "        alist[pos], alist[neg] = alist[neg], alist[pos]\n",
    "        pos +=1\n",
    "        neg -=1\n",
    "swapindexes(words)       \n",
    "print(words)\n",
    "\n",
    "# Could I have used the Insertion Sort method?\n",
    "\n",
    "\n",
    "\n",
    "\n",
    "\n",
    "\n",
    "\n",
    "\n",
    "\n",
    "\n",
    "\n",
    "\n",
    "\n",
    "\n",
    "\n",
    "\n",
    "\n",
    "\n",
    "\n",
    "\n",
    "\n",
    "\n",
    "\n",
    "\n",
    "\n",
    "\n"
   ]
  },
  {
   "cell_type": "code",
   "execution_count": 39,
   "id": "f871bd4e",
   "metadata": {},
   "outputs": [
    {
     "name": "stdout",
     "output_type": "stream",
     "text": [
      "['In', 'computing,', 'a', 'hash', 'table', 'hash', 'map', 'is', 'a', 'data', 'structure', 'which', 'implements', 'an', 'associative', 'array', 'abstract', 'data', 'type,', 'a', 'structure', 'that', 'can', 'map', 'keys', 'to', 'values.', 'A', 'hash', 'table', 'uses', 'a', 'hash', 'function', 'to', 'compute', 'an', 'index', 'into', 'an', 'array', 'of', 'buckets', 'or', 'slots', 'from', 'which', 'the', 'desired', 'value', 'can', 'be', 'found']\n"
     ]
    }
   ],
   "source": [
    "# Exercise #2\n",
    "# Create a function that counts how many distinct words are in the string below, \n",
    "# Then outputs a dictionary with the words as the key and the value as the \n",
    "# Amount of times that word appears in the string.\n",
    "# Output: {'a': 5,'abstract': 1,'an': 3,'array': 2, ... etc...\n",
    "\n",
    "# I'm thinking I need to create an empty dictionary to store the new key-value pairs in.\n",
    "# I'll also need some sort of counter to tally instances.\n",
    "# I know that I will need to somehow iterate through the string.\n",
    "# My brain is telling me that I will probably need to convert the string to a list\n",
    "# To where I can have indexes to work with, but I'm not sure how to do that or if that's even right.\n",
    "\n",
    "# I guess I'll just try some stuff out and see how it works:\n",
    "    \n",
    "a_text = \"\"\"\n",
    "In computing, a hash table hash map is a data structure which implements an associative array abstract data type,\n",
    "a structure that can map keys to values. A hash table uses a hash function to compute an index\n",
    "into an array of buckets or slots from which the desired value can be found\"\"\"\n",
    "\n",
    "# If I use the partition function, I can convert the string to tuples...\n",
    "# tups = a_text.partition('type')\n",
    "# print(tups)\n",
    "\n",
    "# But ^^^ that won't work because I can't do anything with the tuples after that.\n",
    "newlist = list(a_text.split())            # So this turned each word into a list item.\n",
    "print(newlist)                            \n",
    "\n",
    "\n",
    "# I'm thinking the case sensitivity needs to be modified and then I will need to loop throught the list indexes.\n",
    "# I just don't understand how I need to go about doing that. And I can't append anything into a dictionary, so how\n",
    "# Exactly should I be adding the key-pair values?\n",
    "# And how does my counter work? \n",
    "\n"
   ]
  },
  {
   "cell_type": "code",
   "execution_count": 58,
   "id": "0ccb2ad9",
   "metadata": {},
   "outputs": [
    {
     "name": "stdout",
     "output_type": "stream",
     "text": [
      "[26, 2, 3, 13, 5]\n"
     ]
    }
   ],
   "source": [
    "# Exercise #3\n",
    "# Write a program to implement a Linear Search Algorithm. \n",
    "# Also in a comment, write the Time Complexity of the following algorithm.\n",
    "# Hint: Linear Searching will require searching a list for a given number.\n",
    "# Basically you're creating your own version of the .index() function\n",
    "\n",
    "# It sounds like a loop to me...\n",
    "def fauxFunc(some_list):\n",
    "    for i in range(len(some_list)):\n",
    "        if i == 13:\n",
    "            return [i]\n",
    "\n",
    "mylist = [26,2,3,13,5]\n",
    "fauxFunc(mylist)\n",
    "print(mylist)\n",
    "        \n",
    "# I know what I want, but I don't know how to get it!\n",
    "# I know that you have to loop through the list, count the steps as you do so, then\n",
    "# Once you reach your target destination, return the value of its position as the output.\n",
    "# I thought the range aspect would work nice because of the (start, stop, step), but I don't understand how to tie it all\n",
    "# Together..."
   ]
  },
  {
   "cell_type": "code",
   "execution_count": null,
   "id": "b83a0684",
   "metadata": {},
   "outputs": [],
   "source": []
  }
 ],
 "metadata": {
  "kernelspec": {
   "display_name": "Python 3",
   "language": "python",
   "name": "python3"
  },
  "language_info": {
   "codemirror_mode": {
    "name": "ipython",
    "version": 3
   },
   "file_extension": ".py",
   "mimetype": "text/x-python",
   "name": "python",
   "nbconvert_exporter": "python",
   "pygments_lexer": "ipython3",
   "version": "3.8.8"
  }
 },
 "nbformat": 4,
 "nbformat_minor": 5
}
